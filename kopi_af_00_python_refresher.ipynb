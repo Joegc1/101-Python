{
  "cells": [
    {
      "cell_type": "markdown",
      "metadata": {
        "id": "KtbkJ9BibahG"
      },
      "source": [
        "# Preface\n",
        "\n",
        "## Why Python?\n",
        "1. General purpose language - add what you need\n",
        "2. Portable (Linux, Windows, Mac)\n",
        "3. Interactive\n",
        "4. Free\n",
        "5. Community and eco-system\n",
        "6. Easy to use\n",
        "\n",
        "## Working with Python\n",
        "Workflows - many - find your own! In this course - Jupyter notebook and Pandas:\n",
        "* Python + Jupyter notebook + Pandas = A complete environment\n",
        "* Interactive\n",
        "* Encourage an iterative work process (research?)\n",
        "* Documentation, code and visualization in one - literate programming\n",
        "* Reproducing results and figures"
      ]
    },
    {
      "cell_type": "markdown",
      "metadata": {
        "id": "kvEzWWOdfD3L"
      },
      "source": [
        "# Introduction\n",
        "\n",
        "In this session, you will learn the basic Python syntax for data manipulation & analysis, including:\n",
        "\n",
        "1. General syntax\n",
        "2. basic operations\n",
        "3. Object & data types\n",
        "4. Flow controls\n",
        "\n",
        "\n"
      ]
    },
    {
      "cell_type": "code",
      "execution_count": null,
      "metadata": {
        "id": "1IFxzzzd-hRl"
      },
      "outputs": [],
      "source": [
        "import numpy as np # Basic library for all kind of numerical operations\n",
        "import pandas as pd # Basic library for data manipulation in dataframes"
      ]
    },
    {
      "cell_type": "markdown",
      "metadata": {
        "id": "f_alePJD__y2"
      },
      "source": [
        "# Basics"
      ]
    },
    {
      "cell_type": "markdown",
      "metadata": {
        "id": "lQn7xy7NcN_X"
      },
      "source": [
        "## The very basics"
      ]
    },
    {
      "cell_type": "code",
      "execution_count": null,
      "metadata": {
        "id": "7kIK1Mvmc1c8",
        "colab": {
          "base_uri": "https://localhost:8080/"
        },
        "outputId": "92443461-1e31-4faf-f9f2-c4ef10bad012"
      },
      "outputs": [
        {
          "output_type": "stream",
          "name": "stdout",
          "text": [
            "Hello world\n"
          ]
        }
      ],
      "source": [
        "# Running a cell (Ctrl-Enter, Shift-Enter)\n",
        "print('Hello world')"
      ]
    },
    {
      "cell_type": "markdown",
      "metadata": {
        "id": "2RSD1OrvgrX7"
      },
      "source": [
        "## Variables"
      ]
    },
    {
      "cell_type": "code",
      "execution_count": null,
      "metadata": {
        "id": "ArYdCkfFgowf",
        "colab": {
          "base_uri": "https://localhost:8080/"
        },
        "outputId": "1b138f11-8a32-4d36-aee7-114860651498"
      },
      "outputs": [
        {
          "output_type": "stream",
          "name": "stdout",
          "text": [
            "6 <class 'int'>\n"
          ]
        }
      ],
      "source": [
        "i = 6\n",
        "print(i, type(i))"
      ]
    },
    {
      "cell_type": "code",
      "execution_count": null,
      "metadata": {
        "id": "vhpLs-tcgtgo",
        "colab": {
          "base_uri": "https://localhost:8080/"
        },
        "outputId": "638429d0-e31b-4c1d-cde3-6079733826dd"
      },
      "outputs": [
        {
          "output_type": "stream",
          "name": "stdout",
          "text": [
            "3.2 <class 'float'>\n"
          ]
        }
      ],
      "source": [
        "x = 3.2\n",
        "print(x, type(x))"
      ]
    },
    {
      "cell_type": "code",
      "execution_count": null,
      "metadata": {
        "id": "NN6XM_vogtua",
        "colab": {
          "base_uri": "https://localhost:8080/"
        },
        "outputId": "3d506945-d4f2-4bef-868a-5d216ea56e6a"
      },
      "outputs": [
        {
          "output_type": "stream",
          "name": "stdout",
          "text": [
            "Hello <class 'str'>\n"
          ]
        }
      ],
      "source": [
        "s = 'Hello'\n",
        "print(s, type(s))"
      ]
    },
    {
      "cell_type": "markdown",
      "metadata": {
        "id": "SA_-aL_zADsC"
      },
      "source": [
        "## Value assignment & evaluation"
      ]
    },
    {
      "cell_type": "code",
      "execution_count": null,
      "metadata": {
        "id": "0-t9pGVUAKjU",
        "colab": {
          "base_uri": "https://localhost:8080/"
        },
        "outputId": "c73d171b-7dcd-47de-ffbf-c6dc262e0756"
      },
      "outputs": [
        {
          "output_type": "stream",
          "name": "stdout",
          "text": [
            "We asigned x the value of  3\n"
          ]
        }
      ],
      "source": [
        "x = 3         # Assignment\n",
        "print('We asigned x the value of ', x)              # Evaluate the expression and print result"
      ]
    },
    {
      "cell_type": "code",
      "execution_count": null,
      "metadata": {
        "id": "pu7VxewCAYHg",
        "colab": {
          "base_uri": "https://localhost:8080/"
        },
        "outputId": "7b7fec5f-1777-41f6-a7e8-cce0ff48ea35"
      },
      "outputs": [
        {
          "output_type": "execute_result",
          "data": {
            "text/plain": [
              "9"
            ]
          },
          "metadata": {},
          "execution_count": 15
        }
      ],
      "source": [
        "y = 4         # Assignment\n",
        "y + 5         # Evaluation, y remains 4"
      ]
    },
    {
      "cell_type": "code",
      "execution_count": null,
      "metadata": {
        "id": "TCMZxZIHAf66",
        "colab": {
          "base_uri": "https://localhost:8080/"
        },
        "outputId": "9fe0b486-1011-41e0-c7ce-afc176413305"
      },
      "outputs": [
        {
          "output_type": "execute_result",
          "data": {
            "text/plain": [
              "71"
            ]
          },
          "metadata": {},
          "execution_count": 16
        }
      ],
      "source": [
        "z = x + 17*y  # Assignment\n",
        "z             # Evaluation"
      ]
    },
    {
      "cell_type": "code",
      "execution_count": null,
      "metadata": {
        "id": "PrD_6a2QbNdb"
      },
      "outputs": [],
      "source": [
        "a=2"
      ]
    },
    {
      "cell_type": "code",
      "execution_count": null,
      "metadata": {
        "id": "VTOQsI726_3t",
        "colab": {
          "base_uri": "https://localhost:8080/"
        },
        "outputId": "6d940254-689e-41e4-f0d5-a899dc4cbfe6"
      },
      "outputs": [
        {
          "output_type": "stream",
          "name": "stdout",
          "text": [
            "7 12 -1 0.75 4 19 49\n"
          ]
        }
      ],
      "source": [
        "# basic mathematical operations\n",
        "print(x+y, x*y, x-y, x/y, a**2, x+y**2, (x+y)**2)"
      ]
    },
    {
      "cell_type": "markdown",
      "metadata": {
        "id": "VGcSo_VAA0qZ"
      },
      "source": [
        "## Value comparison\n",
        "\n",
        "Comparisons return boolean values: True or False"
      ]
    },
    {
      "cell_type": "code",
      "execution_count": null,
      "metadata": {
        "id": "d3Yl4nGYA3wB",
        "colab": {
          "base_uri": "https://localhost:8080/"
        },
        "outputId": "a8ae2ff3-ad7b-4f77-fc1b-75c0aefc5f51"
      },
      "outputs": [
        {
          "output_type": "execute_result",
          "data": {
            "text/plain": [
              "True"
            ]
          },
          "metadata": {},
          "execution_count": 21
        }
      ],
      "source": [
        "2==2  # Equality"
      ]
    },
    {
      "cell_type": "code",
      "execution_count": null,
      "metadata": {
        "id": "1qJE0LBoBPX1",
        "colab": {
          "base_uri": "https://localhost:8080/"
        },
        "outputId": "532f538f-e473-4b12-9360-8bc3507a8b37"
      },
      "outputs": [
        {
          "output_type": "execute_result",
          "data": {
            "text/plain": [
              "False"
            ]
          },
          "metadata": {},
          "execution_count": 22
        }
      ],
      "source": [
        "2!=2  # Inequality"
      ]
    },
    {
      "cell_type": "code",
      "execution_count": null,
      "metadata": {
        "id": "3wi-1BnuBSPa",
        "colab": {
          "base_uri": "https://localhost:8080/"
        },
        "outputId": "b76123fb-8d74-4821-bdf8-2d930bfc907c"
      },
      "outputs": [
        {
          "output_type": "execute_result",
          "data": {
            "text/plain": [
              "True"
            ]
          },
          "metadata": {},
          "execution_count": 23
        }
      ],
      "source": [
        "x <= y # less than or equal: \"<\", \">\", and \">=\" also work"
      ]
    },
    {
      "cell_type": "code",
      "execution_count": null,
      "metadata": {
        "id": "P89TgvrPBWxe",
        "colab": {
          "base_uri": "https://localhost:8080/"
        },
        "outputId": "82485d37-37d9-4a13-8310-2896645c1137"
      },
      "outputs": [
        {
          "output_type": "execute_result",
          "data": {
            "text/plain": [
              "True"
            ]
          },
          "metadata": {},
          "execution_count": 27
        }
      ],
      "source": [
        "(x | z) >= y"
      ]
    },
    {
      "cell_type": "code",
      "execution_count": null,
      "metadata": {
        "id": "vMqgnfb6BjpJ",
        "colab": {
          "base_uri": "https://localhost:8080/"
        },
        "outputId": "ef3e3de1-0b47-4fb1-e4a9-f74a0acf1cd2"
      },
      "outputs": [
        {
          "output_type": "execute_result",
          "data": {
            "text/plain": [
              "False"
            ]
          },
          "metadata": {},
          "execution_count": 28
        }
      ],
      "source": [
        "(x & z) >= y"
      ]
    },
    {
      "cell_type": "code",
      "execution_count": null,
      "metadata": {
        "id": "vuN5mzJF7jwI",
        "colab": {
          "base_uri": "https://localhost:8080/"
        },
        "outputId": "e9f74294-1861-40ab-f7a9-72afeac67f35"
      },
      "outputs": [
        {
          "output_type": "execute_result",
          "data": {
            "text/plain": [
              "False"
            ]
          },
          "metadata": {},
          "execution_count": 29
        }
      ],
      "source": [
        "x + z / 50 < y"
      ]
    },
    {
      "cell_type": "markdown",
      "metadata": {
        "id": "xhOIe6OBFRGq"
      },
      "source": [
        "## Special Constraints, NA, NaN, Inf"
      ]
    },
    {
      "cell_type": "code",
      "execution_count": null,
      "metadata": {
        "id": "GXqrpWifFYHE",
        "colab": {
          "base_uri": "https://localhost:8080/"
        },
        "outputId": "c7b0525e-dd56-4134-a0e1-abb6fce9379f"
      },
      "outputs": [
        {
          "output_type": "stream",
          "name": "stdout",
          "text": [
            "[1, None, 3]\n"
          ]
        }
      ],
      "source": [
        "print([1, None, 3])"
      ]
    },
    {
      "cell_type": "markdown",
      "metadata": {
        "id": "0rI1htgCdFeE"
      },
      "source": [
        "## Importing\n",
        "We need to import libraries or only parts of libraries all the time. Use name-conventions when doing so"
      ]
    },
    {
      "cell_type": "code",
      "execution_count": null,
      "metadata": {
        "id": "pUb54cSJdYSN"
      },
      "outputs": [],
      "source": [
        "from math import sqrt"
      ]
    },
    {
      "cell_type": "code",
      "execution_count": null,
      "metadata": {
        "id": "ACaBX2SxdZ0G",
        "colab": {
          "base_uri": "https://localhost:8080/"
        },
        "outputId": "e24d1130-9101-4108-e5fe-4615d238ab1d"
      },
      "outputs": [
        {
          "output_type": "stream",
          "name": "stdout",
          "text": [
            "3.605551275463989\n"
          ]
        }
      ],
      "source": [
        "a = 2\n",
        "b = 3\n",
        "\n",
        "c = sqrt(a**2 + b**2)\n",
        "print(c)"
      ]
    },
    {
      "cell_type": "markdown",
      "metadata": {
        "id": "sH8DDa-nd69x"
      },
      "source": [
        "## Functions\n",
        "* Define a function\n",
        "* Function name: pythagoras\n",
        "* Arguments: a, b\n",
        "* Indentation using tab (4 spaces) for the whole function\n",
        "* `return` statement"
      ]
    },
    {
      "cell_type": "code",
      "execution_count": null,
      "metadata": {
        "id": "OD4U4QzEeD3k"
      },
      "outputs": [],
      "source": [
        "#@title\n",
        "def pythagoras(a, b):\n",
        "    return sqrt(a**2 + b**2) # Notice the tab!"
      ]
    },
    {
      "cell_type": "code",
      "execution_count": null,
      "metadata": {
        "id": "eAD1TqLWeNez",
        "colab": {
          "base_uri": "https://localhost:8080/"
        },
        "outputId": "321d87d7-1e4c-435b-efa7-ba15c6dd6c2e"
      },
      "outputs": [
        {
          "output_type": "stream",
          "name": "stdout",
          "text": [
            "<function pythagoras at 0x7ff9ff41ec20>\n"
          ]
        }
      ],
      "source": [
        "#@title\n",
        "print(pythagoras)"
      ]
    },
    {
      "cell_type": "code",
      "execution_count": null,
      "metadata": {
        "id": "b2swzQj8eRfz",
        "colab": {
          "base_uri": "https://localhost:8080/"
        },
        "outputId": "4109849c-5905-4f0f-aeaf-3b0e075c354d"
      },
      "outputs": [
        {
          "output_type": "stream",
          "name": "stdout",
          "text": [
            "3.605551275463989\n"
          ]
        }
      ],
      "source": [
        "#@title\n",
        "c = pythagoras(a, b)\n",
        "print(c)"
      ]
    },
    {
      "cell_type": "code",
      "execution_count": null,
      "metadata": {
        "id": "MyZrAIly8fFQ",
        "colab": {
          "base_uri": "https://localhost:8080/",
          "height": 175
        },
        "outputId": "bb1bdda8-c2e9-4426-f975-e5386e7c729c"
      },
      "outputs": [
        {
          "output_type": "execute_result",
          "data": {
            "text/plain": [
              "   0  1\n",
              "0  2  4\n",
              "1  6  7\n",
              "2  8  9\n",
              "3  1  6"
            ],
            "text/html": [
              "\n",
              "  <div id=\"df-93e0c937-94ef-4b52-8cc2-36d9c3408cd6\" class=\"colab-df-container\">\n",
              "    <div>\n",
              "<style scoped>\n",
              "    .dataframe tbody tr th:only-of-type {\n",
              "        vertical-align: middle;\n",
              "    }\n",
              "\n",
              "    .dataframe tbody tr th {\n",
              "        vertical-align: top;\n",
              "    }\n",
              "\n",
              "    .dataframe thead th {\n",
              "        text-align: right;\n",
              "    }\n",
              "</style>\n",
              "<table border=\"1\" class=\"dataframe\">\n",
              "  <thead>\n",
              "    <tr style=\"text-align: right;\">\n",
              "      <th></th>\n",
              "      <th>0</th>\n",
              "      <th>1</th>\n",
              "    </tr>\n",
              "  </thead>\n",
              "  <tbody>\n",
              "    <tr>\n",
              "      <th>0</th>\n",
              "      <td>2</td>\n",
              "      <td>4</td>\n",
              "    </tr>\n",
              "    <tr>\n",
              "      <th>1</th>\n",
              "      <td>6</td>\n",
              "      <td>7</td>\n",
              "    </tr>\n",
              "    <tr>\n",
              "      <th>2</th>\n",
              "      <td>8</td>\n",
              "      <td>9</td>\n",
              "    </tr>\n",
              "    <tr>\n",
              "      <th>3</th>\n",
              "      <td>1</td>\n",
              "      <td>6</td>\n",
              "    </tr>\n",
              "  </tbody>\n",
              "</table>\n",
              "</div>\n",
              "    <div class=\"colab-df-buttons\">\n",
              "\n",
              "  <div class=\"colab-df-container\">\n",
              "    <button class=\"colab-df-convert\" onclick=\"convertToInteractive('df-93e0c937-94ef-4b52-8cc2-36d9c3408cd6')\"\n",
              "            title=\"Convert this dataframe to an interactive table.\"\n",
              "            style=\"display:none;\">\n",
              "\n",
              "  <svg xmlns=\"http://www.w3.org/2000/svg\" height=\"24px\" viewBox=\"0 -960 960 960\">\n",
              "    <path d=\"M120-120v-720h720v720H120Zm60-500h600v-160H180v160Zm220 220h160v-160H400v160Zm0 220h160v-160H400v160ZM180-400h160v-160H180v160Zm440 0h160v-160H620v160ZM180-180h160v-160H180v160Zm440 0h160v-160H620v160Z\"/>\n",
              "  </svg>\n",
              "    </button>\n",
              "\n",
              "  <style>\n",
              "    .colab-df-container {\n",
              "      display:flex;\n",
              "      gap: 12px;\n",
              "    }\n",
              "\n",
              "    .colab-df-convert {\n",
              "      background-color: #E8F0FE;\n",
              "      border: none;\n",
              "      border-radius: 50%;\n",
              "      cursor: pointer;\n",
              "      display: none;\n",
              "      fill: #1967D2;\n",
              "      height: 32px;\n",
              "      padding: 0 0 0 0;\n",
              "      width: 32px;\n",
              "    }\n",
              "\n",
              "    .colab-df-convert:hover {\n",
              "      background-color: #E2EBFA;\n",
              "      box-shadow: 0px 1px 2px rgba(60, 64, 67, 0.3), 0px 1px 3px 1px rgba(60, 64, 67, 0.15);\n",
              "      fill: #174EA6;\n",
              "    }\n",
              "\n",
              "    .colab-df-buttons div {\n",
              "      margin-bottom: 4px;\n",
              "    }\n",
              "\n",
              "    [theme=dark] .colab-df-convert {\n",
              "      background-color: #3B4455;\n",
              "      fill: #D2E3FC;\n",
              "    }\n",
              "\n",
              "    [theme=dark] .colab-df-convert:hover {\n",
              "      background-color: #434B5C;\n",
              "      box-shadow: 0px 1px 3px 1px rgba(0, 0, 0, 0.15);\n",
              "      filter: drop-shadow(0px 1px 2px rgba(0, 0, 0, 0.3));\n",
              "      fill: #FFFFFF;\n",
              "    }\n",
              "  </style>\n",
              "\n",
              "    <script>\n",
              "      const buttonEl =\n",
              "        document.querySelector('#df-93e0c937-94ef-4b52-8cc2-36d9c3408cd6 button.colab-df-convert');\n",
              "      buttonEl.style.display =\n",
              "        google.colab.kernel.accessAllowed ? 'block' : 'none';\n",
              "\n",
              "      async function convertToInteractive(key) {\n",
              "        const element = document.querySelector('#df-93e0c937-94ef-4b52-8cc2-36d9c3408cd6');\n",
              "        const dataTable =\n",
              "          await google.colab.kernel.invokeFunction('convertToInteractive',\n",
              "                                                    [key], {});\n",
              "        if (!dataTable) return;\n",
              "\n",
              "        const docLinkHtml = 'Like what you see? Visit the ' +\n",
              "          '<a target=\"_blank\" href=https://colab.research.google.com/notebooks/data_table.ipynb>data table notebook</a>'\n",
              "          + ' to learn more about interactive tables.';\n",
              "        element.innerHTML = '';\n",
              "        dataTable['output_type'] = 'display_data';\n",
              "        await google.colab.output.renderOutput(dataTable, element);\n",
              "        const docLink = document.createElement('div');\n",
              "        docLink.innerHTML = docLinkHtml;\n",
              "        element.appendChild(docLink);\n",
              "      }\n",
              "    </script>\n",
              "  </div>\n",
              "\n",
              "\n",
              "<div id=\"df-a57190bc-6c08-4dbd-b161-4849b34929bc\">\n",
              "  <button class=\"colab-df-quickchart\" onclick=\"quickchart('df-a57190bc-6c08-4dbd-b161-4849b34929bc')\"\n",
              "            title=\"Suggest charts\"\n",
              "            style=\"display:none;\">\n",
              "\n",
              "<svg xmlns=\"http://www.w3.org/2000/svg\" height=\"24px\"viewBox=\"0 0 24 24\"\n",
              "     width=\"24px\">\n",
              "    <g>\n",
              "        <path d=\"M19 3H5c-1.1 0-2 .9-2 2v14c0 1.1.9 2 2 2h14c1.1 0 2-.9 2-2V5c0-1.1-.9-2-2-2zM9 17H7v-7h2v7zm4 0h-2V7h2v10zm4 0h-2v-4h2v4z\"/>\n",
              "    </g>\n",
              "</svg>\n",
              "  </button>\n",
              "\n",
              "<style>\n",
              "  .colab-df-quickchart {\n",
              "      --bg-color: #E8F0FE;\n",
              "      --fill-color: #1967D2;\n",
              "      --hover-bg-color: #E2EBFA;\n",
              "      --hover-fill-color: #174EA6;\n",
              "      --disabled-fill-color: #AAA;\n",
              "      --disabled-bg-color: #DDD;\n",
              "  }\n",
              "\n",
              "  [theme=dark] .colab-df-quickchart {\n",
              "      --bg-color: #3B4455;\n",
              "      --fill-color: #D2E3FC;\n",
              "      --hover-bg-color: #434B5C;\n",
              "      --hover-fill-color: #FFFFFF;\n",
              "      --disabled-bg-color: #3B4455;\n",
              "      --disabled-fill-color: #666;\n",
              "  }\n",
              "\n",
              "  .colab-df-quickchart {\n",
              "    background-color: var(--bg-color);\n",
              "    border: none;\n",
              "    border-radius: 50%;\n",
              "    cursor: pointer;\n",
              "    display: none;\n",
              "    fill: var(--fill-color);\n",
              "    height: 32px;\n",
              "    padding: 0;\n",
              "    width: 32px;\n",
              "  }\n",
              "\n",
              "  .colab-df-quickchart:hover {\n",
              "    background-color: var(--hover-bg-color);\n",
              "    box-shadow: 0 1px 2px rgba(60, 64, 67, 0.3), 0 1px 3px 1px rgba(60, 64, 67, 0.15);\n",
              "    fill: var(--button-hover-fill-color);\n",
              "  }\n",
              "\n",
              "  .colab-df-quickchart-complete:disabled,\n",
              "  .colab-df-quickchart-complete:disabled:hover {\n",
              "    background-color: var(--disabled-bg-color);\n",
              "    fill: var(--disabled-fill-color);\n",
              "    box-shadow: none;\n",
              "  }\n",
              "\n",
              "  .colab-df-spinner {\n",
              "    border: 2px solid var(--fill-color);\n",
              "    border-color: transparent;\n",
              "    border-bottom-color: var(--fill-color);\n",
              "    animation:\n",
              "      spin 1s steps(1) infinite;\n",
              "  }\n",
              "\n",
              "  @keyframes spin {\n",
              "    0% {\n",
              "      border-color: transparent;\n",
              "      border-bottom-color: var(--fill-color);\n",
              "      border-left-color: var(--fill-color);\n",
              "    }\n",
              "    20% {\n",
              "      border-color: transparent;\n",
              "      border-left-color: var(--fill-color);\n",
              "      border-top-color: var(--fill-color);\n",
              "    }\n",
              "    30% {\n",
              "      border-color: transparent;\n",
              "      border-left-color: var(--fill-color);\n",
              "      border-top-color: var(--fill-color);\n",
              "      border-right-color: var(--fill-color);\n",
              "    }\n",
              "    40% {\n",
              "      border-color: transparent;\n",
              "      border-right-color: var(--fill-color);\n",
              "      border-top-color: var(--fill-color);\n",
              "    }\n",
              "    60% {\n",
              "      border-color: transparent;\n",
              "      border-right-color: var(--fill-color);\n",
              "    }\n",
              "    80% {\n",
              "      border-color: transparent;\n",
              "      border-right-color: var(--fill-color);\n",
              "      border-bottom-color: var(--fill-color);\n",
              "    }\n",
              "    90% {\n",
              "      border-color: transparent;\n",
              "      border-bottom-color: var(--fill-color);\n",
              "    }\n",
              "  }\n",
              "</style>\n",
              "\n",
              "  <script>\n",
              "    async function quickchart(key) {\n",
              "      const quickchartButtonEl =\n",
              "        document.querySelector('#' + key + ' button');\n",
              "      quickchartButtonEl.disabled = true;  // To prevent multiple clicks.\n",
              "      quickchartButtonEl.classList.add('colab-df-spinner');\n",
              "      try {\n",
              "        const charts = await google.colab.kernel.invokeFunction(\n",
              "            'suggestCharts', [key], {});\n",
              "      } catch (error) {\n",
              "        console.error('Error during call to suggestCharts:', error);\n",
              "      }\n",
              "      quickchartButtonEl.classList.remove('colab-df-spinner');\n",
              "      quickchartButtonEl.classList.add('colab-df-quickchart-complete');\n",
              "    }\n",
              "    (() => {\n",
              "      let quickchartButtonEl =\n",
              "        document.querySelector('#df-a57190bc-6c08-4dbd-b161-4849b34929bc button');\n",
              "      quickchartButtonEl.style.display =\n",
              "        google.colab.kernel.accessAllowed ? 'block' : 'none';\n",
              "    })();\n",
              "  </script>\n",
              "</div>\n",
              "\n",
              "    </div>\n",
              "  </div>\n"
            ],
            "application/vnd.google.colaboratory.intrinsic+json": {
              "type": "dataframe",
              "summary": "{\n  \"name\": \"pd\",\n  \"rows\": 4,\n  \"fields\": [\n    {\n      \"column\": 0,\n      \"properties\": {\n        \"dtype\": \"number\",\n        \"std\": 3,\n        \"min\": 1,\n        \"max\": 8,\n        \"num_unique_values\": 4,\n        \"samples\": [\n          6,\n          1,\n          2\n        ],\n        \"semantic_type\": \"\",\n        \"description\": \"\"\n      }\n    },\n    {\n      \"column\": 1,\n      \"properties\": {\n        \"dtype\": \"number\",\n        \"std\": 2,\n        \"min\": 4,\n        \"max\": 9,\n        \"num_unique_values\": 4,\n        \"samples\": [\n          7,\n          6,\n          4\n        ],\n        \"semantic_type\": \"\",\n        \"description\": \"\"\n      }\n    }\n  ]\n}"
            }
          },
          "metadata": {},
          "execution_count": 40
        }
      ],
      "source": [
        "#@title\n",
        "some_list = [(2,4),(6,7),(8,9),(1,6)]\n",
        "pd.DataFrame(some_list)"
      ]
    },
    {
      "cell_type": "code",
      "execution_count": null,
      "metadata": {
        "id": "sYG7eRxn8oqt",
        "colab": {
          "base_uri": "https://localhost:8080/"
        },
        "outputId": "f60e42b9-70a2-4886-d59e-4ad858d5700c"
      },
      "outputs": [
        {
          "output_type": "execute_result",
          "data": {
            "text/plain": [
              "[4.47213595499958, 9.219544457292887, 12.041594578792296, 6.082762530298219]"
            ]
          },
          "metadata": {},
          "execution_count": 47
        }
      ],
      "source": [
        "#@title\n",
        "[pythagoras(stuff[0],stuff[1]) for stuff in some_list]"
      ]
    },
    {
      "cell_type": "markdown",
      "metadata": {
        "id": "ILnKSk0aAci6"
      },
      "source": [
        "**Best practice: ** Adding documentation via\n",
        "* Doc-string (\"\"\")\n",
        "* Try placing the cursor at the function and press `<shift+tab>`"
      ]
    },
    {
      "cell_type": "code",
      "execution_count": null,
      "metadata": {
        "id": "7lN0P7RPAci6"
      },
      "outputs": [],
      "source": [
        "def pythagoras(a, b):\n",
        "    \"\"\"\n",
        "    Computes the length of the hypotenuse of a right triangle\n",
        "\n",
        "    Arguments\n",
        "    a, b: the two lengths of the right triangle\n",
        "    \"\"\"\n",
        "\n",
        "    return sqrt(a**2 + b**2)"
      ]
    },
    {
      "cell_type": "markdown",
      "metadata": {
        "id": "cHgFgoMIgDqw"
      },
      "source": [
        "## Mini-assignment\n",
        "* Construct a function that given two points $(x_1, y_1), (x_2, y_2)$ on a line computes the slope $a$ of the line\n",
        "$$ y = ax + b$$\n",
        "given by\n",
        "$$ a = \\frac{y_2- y_1}{x_2 - x_1}$$"
      ]
    },
    {
      "cell_type": "code",
      "execution_count": null,
      "metadata": {
        "id": "LZI28bDmgLv4"
      },
      "outputs": [],
      "source": [
        "def slope(x1,y1,x2,y2):\n",
        "  return (y2-y1)/(x2-x1)"
      ]
    },
    {
      "cell_type": "markdown",
      "metadata": {
        "id": "2zKsNBO2Puim"
      },
      "source": [
        "# Flow Control (loops & friends)\n",
        "\n",
        "Python is made for readability and therefore tabs and new lines have syntax meaning\n"
      ]
    },
    {
      "cell_type": "code",
      "execution_count": null,
      "metadata": {
        "id": "OEdVwW4oPmrG",
        "colab": {
          "base_uri": "https://localhost:8080/"
        },
        "outputId": "2dd67104-5b7d-4838-a544-f30021cd007f"
      },
      "outputs": [
        {
          "output_type": "stream",
          "name": "stdout",
          "text": [
            "2.0\n"
          ]
        }
      ],
      "source": [
        "# If/else controls\n",
        "x = 5\n",
        "y = 10\n",
        "\n",
        "if (x==0):\n",
        "  y = 0\n",
        "else:\n",
        "  y = y/x\n",
        "  print(y)"
      ]
    },
    {
      "cell_type": "code",
      "execution_count": null,
      "metadata": {
        "id": "CPnjWDyUQBA2",
        "colab": {
          "base_uri": "https://localhost:8080/"
        },
        "outputId": "6fb7f8ba-46a0-4eef-f8e9-51fb4fbdd66a"
      },
      "outputs": [
        {
          "output_type": "stream",
          "name": "stdout",
          "text": [
            "OMG, i just counted to 1\n",
            "OMG, i just counted to 2\n",
            "OMG, i just counted to 3\n",
            "OMG, i just counted to 4\n",
            "OMG, i just counted to 5\n"
          ]
        }
      ],
      "source": [
        "# For loops\n",
        "for i in range(1,x+1):\n",
        "  print(\"OMG, i just counted to \" + str(i))"
      ]
    },
    {
      "cell_type": "code",
      "execution_count": null,
      "metadata": {
        "id": "fF4dZdA_QwWQ",
        "colab": {
          "base_uri": "https://localhost:8080/"
        },
        "outputId": "50baac95-c88e-4011-99bb-5faa67b1dfae"
      },
      "outputs": [
        {
          "output_type": "stream",
          "name": "stdout",
          "text": [
            "5\n",
            "4\n",
            "3\n",
            "2\n",
            "1\n"
          ]
        }
      ],
      "source": [
        "# While loop\n",
        "x = 5\n",
        "\n",
        "while x > 0:\n",
        "  print(x)\n",
        "  x = x-1"
      ]
    },
    {
      "cell_type": "code",
      "execution_count": null,
      "metadata": {
        "id": "4sLNd02bQ__C",
        "colab": {
          "base_uri": "https://localhost:8080/"
        },
        "outputId": "1455302e-af15-422b-a24e-50288f639930"
      },
      "outputs": [
        {
          "output_type": "stream",
          "name": "stdout",
          "text": [
            "1\n",
            "2\n",
            "3\n",
            "4\n",
            "5\n",
            "6\n",
            "7\n"
          ]
        }
      ],
      "source": [
        "x = 1\n",
        "\n",
        "while True:\n",
        "  print(x)\n",
        "  x = x + 1\n",
        "  if x > 7:\n",
        "    break"
      ]
    },
    {
      "cell_type": "code",
      "execution_count": null,
      "metadata": {
        "id": "SpPi4L4tt_zN",
        "colab": {
          "base_uri": "https://localhost:8080/"
        },
        "outputId": "eb084470-63f4-45e9-8433-63431ed85207"
      },
      "outputs": [
        {
          "output_type": "execute_result",
          "data": {
            "text/plain": [
              "[0, 2, 4, 6, 8, 10, 12, 14, 16, 18]"
            ]
          },
          "metadata": {},
          "execution_count": 56
        }
      ],
      "source": [
        "even = [] # empty list\n",
        "for i in range(10):\n",
        "    even.append(i*2)\n",
        "even"
      ]
    },
    {
      "cell_type": "code",
      "execution_count": null,
      "metadata": {
        "id": "iokR-fr0uJ5g",
        "colab": {
          "base_uri": "https://localhost:8080/"
        },
        "outputId": "7639fa82-d2cd-4a8b-af15-0ee44196757c"
      },
      "outputs": [
        {
          "output_type": "execute_result",
          "data": {
            "text/plain": [
              "[1, 3, 5, 7, 9, 11, 13, 15, 17, 19]"
            ]
          },
          "metadata": {},
          "execution_count": 57
        }
      ],
      "source": [
        "odd = []\n",
        "for i in even:\n",
        "    odd.append(i+1)\n",
        "odd"
      ]
    },
    {
      "cell_type": "markdown",
      "metadata": {
        "id": "2PGf7TO1uix0"
      },
      "source": [
        "### Mini-assignment\n",
        "\n",
        "Write a function `KtoC` that translates Kelvin to Celcius\n",
        "\n",
        "$$ C = K - 273.15 \\quad \\text{with} \\quad C\\geq - 273.15$$\n",
        "\n",
        "The function returns `None` when $C < -273.15$"
      ]
    },
    {
      "cell_type": "code",
      "execution_count": null,
      "metadata": {
        "id": "uKOoIZj4G7Pf"
      },
      "outputs": [],
      "source": [
        "def KtoC(K):\n",
        "  if K >= -273.15:\n",
        "    return K-273.15\n",
        "  else:\n",
        "    return None"
      ]
    },
    {
      "cell_type": "markdown",
      "metadata": {
        "id": "s0LRc_qV_rQB"
      },
      "source": [
        "\n",
        "\n",
        "#Object classes\n"
      ]
    },
    {
      "cell_type": "markdown",
      "metadata": {
        "id": "mO5_ey2l_zyO"
      },
      "source": [
        "## Vector\n",
        "\n",
        "One-dimensional collection of values"
      ]
    },
    {
      "cell_type": "code",
      "execution_count": null,
      "metadata": {
        "id": "6YNedwER_yer",
        "colab": {
          "base_uri": "https://localhost:8080/"
        },
        "outputId": "0771f703-50d8-45df-b112-a42445f5e2f7"
      },
      "outputs": [
        {
          "output_type": "execute_result",
          "data": {
            "text/plain": [
              "[1, 5, 11, 33]"
            ]
          },
          "metadata": {},
          "execution_count": 60
        }
      ],
      "source": [
        "# Numeric\n",
        "v1 = [1,5,11,33] # [] initiate a list\n",
        "v1"
      ]
    },
    {
      "cell_type": "code",
      "execution_count": null,
      "metadata": {
        "id": "MuVsjqw_A5sL",
        "colab": {
          "base_uri": "https://localhost:8080/"
        },
        "outputId": "bddb1ed0-adbd-4cb9-f054-9daecabd11bf"
      },
      "outputs": [
        {
          "output_type": "execute_result",
          "data": {
            "text/plain": [
              "['hello', 'world']"
            ]
          },
          "metadata": {},
          "execution_count": 61
        }
      ],
      "source": [
        "# String\n",
        "v2 = [\"hello\",\"world\"]\n",
        "v2"
      ]
    },
    {
      "cell_type": "code",
      "execution_count": null,
      "metadata": {
        "id": "5r-3iAR3A-DC",
        "colab": {
          "base_uri": "https://localhost:8080/"
        },
        "outputId": "854f5a22-8621-4fd3-b3ef-657114facefc"
      },
      "outputs": [
        {
          "output_type": "execute_result",
          "data": {
            "text/plain": [
              "[True, True, False, True]"
            ]
          },
          "metadata": {},
          "execution_count": 62
        }
      ],
      "source": [
        "# Boolean\n",
        "v3 = [True, True, False, True]\n",
        "v3"
      ]
    },
    {
      "cell_type": "markdown",
      "metadata": {
        "id": "xAG4dKvTIltF"
      },
      "source": [
        "Evaluating elements in vectors"
      ]
    },
    {
      "cell_type": "code",
      "execution_count": null,
      "metadata": {
        "id": "1oeaDAHLIpsx",
        "colab": {
          "base_uri": "https://localhost:8080/"
        },
        "outputId": "6065457f-63a1-4a99-91c4-0ecd223f1463"
      },
      "outputs": [
        {
          "output_type": "execute_result",
          "data": {
            "text/plain": [
              "1"
            ]
          },
          "metadata": {},
          "execution_count": 63
        }
      ],
      "source": [
        "v1[0]"
      ]
    },
    {
      "cell_type": "code",
      "execution_count": null,
      "metadata": {
        "id": "3QOAjR8CI4IN",
        "colab": {
          "base_uri": "https://localhost:8080/"
        },
        "outputId": "0063d562-b89a-4850-c69e-f3102638661d"
      },
      "outputs": [
        {
          "output_type": "execute_result",
          "data": {
            "text/plain": [
              "[5, 11]"
            ]
          },
          "metadata": {},
          "execution_count": 68
        }
      ],
      "source": [
        "v1[1:3]"
      ]
    },
    {
      "cell_type": "markdown",
      "metadata": {
        "id": "PtDQGTsB2kG2"
      },
      "source": [
        "Manipulatingg vector elements"
      ]
    },
    {
      "cell_type": "code",
      "execution_count": null,
      "metadata": {
        "id": "Oe_dkwp_2kRx",
        "colab": {
          "base_uri": "https://localhost:8080/"
        },
        "outputId": "bacad7de-3a9e-4716-857e-bfbb8fb37511"
      },
      "outputs": [
        {
          "output_type": "execute_result",
          "data": {
            "text/plain": [
              "[1, 5, 1337, 33]"
            ]
          },
          "metadata": {},
          "execution_count": 69
        }
      ],
      "source": [
        "v1[2] = 1337\n",
        "v1"
      ]
    },
    {
      "cell_type": "markdown",
      "metadata": {
        "id": "odc1xHxmBWsA"
      },
      "source": [
        "Combining different types of elements you obtain a list of lists (later) with all elements in their original format"
      ]
    },
    {
      "cell_type": "code",
      "execution_count": null,
      "metadata": {
        "id": "fQZ7HVJDBH6y",
        "colab": {
          "base_uri": "https://localhost:8080/"
        },
        "outputId": "f6c88045-751f-4bd2-86fb-3b0ccaf26450"
      },
      "outputs": [
        {
          "output_type": "execute_result",
          "data": {
            "text/plain": [
              "[[1, 5, 1337, 33], ['hello', 'world'], [True, True, False, True]]"
            ]
          },
          "metadata": {},
          "execution_count": 70
        }
      ],
      "source": [
        "v5 =[v1, v2, v3]\n",
        "v5\n",
        "# Integers (numbers) are still numbers, not strings (text). Easy to see because they don't have ' '"
      ]
    },
    {
      "cell_type": "markdown",
      "metadata": {
        "id": "eY19eb0hIeqo"
      },
      "source": [
        "Adding vectors will append them (not sum them)"
      ]
    },
    {
      "cell_type": "code",
      "execution_count": null,
      "metadata": {
        "id": "U5ozc0Q8BR4L",
        "colab": {
          "base_uri": "https://localhost:8080/"
        },
        "outputId": "64a925e6-f843-40e4-f7a3-acebfe1e57b9"
      },
      "outputs": [
        {
          "output_type": "execute_result",
          "data": {
            "text/plain": [
              "[1, 5, 1337, 33, True, True, False, True]"
            ]
          },
          "metadata": {},
          "execution_count": 71
        }
      ],
      "source": [
        "v1 + v3"
      ]
    },
    {
      "cell_type": "code",
      "execution_count": null,
      "metadata": {
        "id": "LTbWQMQyCKmT",
        "colab": {
          "base_uri": "https://localhost:8080/"
        },
        "outputId": "7acaa236-f086-4352-c24e-4a854544950f"
      },
      "outputs": [
        {
          "output_type": "execute_result",
          "data": {
            "text/plain": [
              "[1, 5, 1337, 33, 1, 5, 1337, 33]"
            ]
          },
          "metadata": {},
          "execution_count": 72
        }
      ],
      "source": [
        "# Same for multiplication\n",
        "v1 * 2"
      ]
    },
    {
      "cell_type": "markdown",
      "metadata": {
        "id": "4nwBrA3mB3kM"
      },
      "source": [
        "**Element-wise operations:** To do numerical operations on vectors\n",
        "numpy.arrays. NumPy is a library, adding support for large, multi-dimensional arrays and matrices, along with a large collection of high-level mathematical functions to operate on these arrays. Here, you can already see that Python is a CS language."
      ]
    },
    {
      "cell_type": "code",
      "execution_count": null,
      "metadata": {
        "id": "jXCR4ygoKe7S"
      },
      "outputs": [],
      "source": [
        "v1_array = np.array(v1)\n",
        "v2_array = np.array(v2)\n",
        "v3_array = np.array(v3)"
      ]
    },
    {
      "cell_type": "code",
      "execution_count": null,
      "metadata": {
        "id": "Ttaz6q4VKzNX",
        "colab": {
          "base_uri": "https://localhost:8080/"
        },
        "outputId": "6a150db0-4ec2-4750-e305-dec4591c708f"
      },
      "outputs": [
        {
          "output_type": "execute_result",
          "data": {
            "text/plain": [
              "array([   1,    5, 1337,   33])"
            ]
          },
          "metadata": {},
          "execution_count": 74
        }
      ],
      "source": [
        "v1_array"
      ]
    },
    {
      "cell_type": "code",
      "execution_count": null,
      "metadata": {
        "id": "6IyUAEunLASy",
        "colab": {
          "base_uri": "https://localhost:8080/"
        },
        "outputId": "0fcbc38d-4431-4e1a-f9d7-5b8d90ff3983"
      },
      "outputs": [
        {
          "output_type": "execute_result",
          "data": {
            "text/plain": [
              "array([   6,   10, 1342,   38])"
            ]
          },
          "metadata": {},
          "execution_count": 75
        }
      ],
      "source": [
        "v1_array + 5"
      ]
    },
    {
      "cell_type": "code",
      "execution_count": null,
      "metadata": {
        "id": "15du6wGyB0qj",
        "colab": {
          "base_uri": "https://localhost:8080/"
        },
        "outputId": "f9f8595b-268e-4835-944f-1c8f8675b4e2"
      },
      "outputs": [
        {
          "output_type": "execute_result",
          "data": {
            "text/plain": [
              "array([   2,    6, 1337,   34])"
            ]
          },
          "metadata": {},
          "execution_count": 77
        }
      ],
      "source": [
        "v1_array + v3_array"
      ]
    },
    {
      "cell_type": "code",
      "execution_count": null,
      "metadata": {
        "id": "h9EGsZTRDA23",
        "colab": {
          "base_uri": "https://localhost:8080/",
          "height": 159
        },
        "outputId": "9cfe1366-5157-43ec-891f-bed7093477b8"
      },
      "outputs": [
        {
          "output_type": "error",
          "ename": "ValueError",
          "evalue": "operands could not be broadcast together with shapes (4,) (2,) ",
          "traceback": [
            "\u001b[0;31m---------------------------------------------------------------------------\u001b[0m",
            "\u001b[0;31mValueError\u001b[0m                                Traceback (most recent call last)",
            "\u001b[0;32m<ipython-input-78-832f5dfe874f>\u001b[0m in \u001b[0;36m<cell line: 2>\u001b[0;34m()\u001b[0m\n\u001b[1;32m      1\u001b[0m \u001b[0;31m# Arrays of different size\u001b[0m\u001b[0;34m\u001b[0m\u001b[0;34m\u001b[0m\u001b[0m\n\u001b[0;32m----> 2\u001b[0;31m \u001b[0mv1_array\u001b[0m \u001b[0;34m+\u001b[0m \u001b[0mnp\u001b[0m\u001b[0;34m.\u001b[0m\u001b[0marray\u001b[0m\u001b[0;34m(\u001b[0m\u001b[0;34m[\u001b[0m\u001b[0;36m1\u001b[0m\u001b[0;34m,\u001b[0m\u001b[0;36m7\u001b[0m\u001b[0;34m]\u001b[0m\u001b[0;34m)\u001b[0m\u001b[0;34m\u001b[0m\u001b[0;34m\u001b[0m\u001b[0m\n\u001b[0m",
            "\u001b[0;31mValueError\u001b[0m: operands could not be broadcast together with shapes (4,) (2,) "
          ]
        }
      ],
      "source": [
        "# Arrays of different size\n",
        "v1_array + np.array([1,7])"
      ]
    },
    {
      "cell_type": "code",
      "execution_count": null,
      "metadata": {
        "id": "zqSYtKjtLmEj",
        "colab": {
          "base_uri": "https://localhost:8080/",
          "height": 159
        },
        "outputId": "44e95550-de4b-407b-e316-ccc047b5abd8"
      },
      "outputs": [
        {
          "output_type": "error",
          "ename": "UFuncTypeError",
          "evalue": "ufunc 'add' did not contain a loop with signature matching types (dtype('int64'), dtype('<U5')) -> None",
          "traceback": [
            "\u001b[0;31m---------------------------------------------------------------------------\u001b[0m",
            "\u001b[0;31mUFuncTypeError\u001b[0m                            Traceback (most recent call last)",
            "\u001b[0;32m<ipython-input-79-6c177d22174a>\u001b[0m in \u001b[0;36m<cell line: 2>\u001b[0;34m()\u001b[0m\n\u001b[1;32m      1\u001b[0m \u001b[0;31m# non-numerical arrays\u001b[0m\u001b[0;34m\u001b[0m\u001b[0;34m\u001b[0m\u001b[0m\n\u001b[0;32m----> 2\u001b[0;31m \u001b[0mv1_array\u001b[0m \u001b[0;34m+\u001b[0m \u001b[0mv2_array\u001b[0m\u001b[0;34m\u001b[0m\u001b[0;34m\u001b[0m\u001b[0m\n\u001b[0m",
            "\u001b[0;31mUFuncTypeError\u001b[0m: ufunc 'add' did not contain a loop with signature matching types (dtype('int64'), dtype('<U5')) -> None"
          ]
        }
      ],
      "source": [
        "# non-numerical arrays\n",
        "v1_array + v2_array"
      ]
    },
    {
      "cell_type": "markdown",
      "metadata": {
        "id": "wyKGw7LphYV2"
      },
      "source": [
        "**Mathematical operations over the vector:** For most maths you need to engage numpy or other modules (Python is not per sea maths language)"
      ]
    },
    {
      "cell_type": "code",
      "execution_count": null,
      "metadata": {
        "id": "pBsnrz9GDXlU",
        "colab": {
          "base_uri": "https://localhost:8080/"
        },
        "outputId": "e8488a9c-dde7-441f-b44e-35c1bc1ad50e"
      },
      "outputs": [
        {
          "output_type": "execute_result",
          "data": {
            "text/plain": [
              "1376"
            ]
          },
          "metadata": {},
          "execution_count": 80
        }
      ],
      "source": [
        "# that works the same way\n",
        "np.sum(v1)"
      ]
    },
    {
      "cell_type": "code",
      "execution_count": null,
      "metadata": {
        "id": "NXuWEoQ7DrFd",
        "colab": {
          "base_uri": "https://localhost:8080/"
        },
        "outputId": "74a6de4d-5c40-4dc4-a451-55122c9f6ef7"
      },
      "outputs": [
        {
          "output_type": "execute_result",
          "data": {
            "text/plain": [
              "344.0"
            ]
          },
          "metadata": {},
          "execution_count": 81
        }
      ],
      "source": [
        "np.mean(v1)"
      ]
    },
    {
      "cell_type": "code",
      "execution_count": null,
      "metadata": {
        "id": "sjAX77_4KfAT",
        "colab": {
          "base_uri": "https://localhost:8080/"
        },
        "outputId": "a0cf0a1a-393a-4fc2-e548-f20f6a5ff88c"
      },
      "outputs": [
        {
          "output_type": "execute_result",
          "data": {
            "text/plain": [
              "573.4413657907842"
            ]
          },
          "metadata": {},
          "execution_count": 82
        }
      ],
      "source": [
        "# Standard deviation for population - DeltaDegreesOfFreedom = 0 by default\n",
        "np.std(v1, ddof=0)"
      ]
    },
    {
      "cell_type": "code",
      "execution_count": null,
      "metadata": {
        "id": "kDOkhq4cDvVe",
        "colab": {
          "base_uri": "https://localhost:8080/"
        },
        "outputId": "6a77d600-d692-4afc-fd5a-a7bd7e061f40"
      },
      "outputs": [
        {
          "output_type": "execute_result",
          "data": {
            "text/plain": [
              "662.1530538075518"
            ]
          },
          "metadata": {},
          "execution_count": 83
        }
      ],
      "source": [
        "np.std(v1, ddof=1)"
      ]
    },
    {
      "cell_type": "code",
      "execution_count": null,
      "metadata": {
        "id": "gGf4jB8MKbgA",
        "colab": {
          "base_uri": "https://localhost:8080/"
        },
        "outputId": "5f54a1ca-9ccf-40e8-b556-6d80ba480f36"
      },
      "outputs": [
        {
          "output_type": "execute_result",
          "data": {
            "text/plain": [
              "array([[1., 1.],\n",
              "       [1., 1.]])"
            ]
          },
          "metadata": {},
          "execution_count": 84
        }
      ],
      "source": [
        "np.corrcoef(v1,v1)"
      ]
    },
    {
      "cell_type": "markdown",
      "metadata": {
        "id": "wFqKVINTL1RN"
      },
      "source": [
        "Also consider this cheat sheet\n",
        "\n",
        "https://s3.amazonaws.com/assets.datacamp.com/blog_assets/Numpy_Python_Cheat_Sheet.pdf"
      ]
    },
    {
      "cell_type": "markdown",
      "metadata": {
        "id": "juKqaTiaivBS"
      },
      "source": [
        "## Lists\n",
        "* An indexable collection of variables (objects)\n",
        "* C-style or 0-indexed"
      ]
    },
    {
      "cell_type": "code",
      "execution_count": null,
      "metadata": {
        "id": "p6QpJdRro3Y1",
        "colab": {
          "base_uri": "https://localhost:8080/"
        },
        "outputId": "e636fb14-0747-4477-9217-ec47e1240b26"
      },
      "outputs": [
        {
          "output_type": "execute_result",
          "data": {
            "text/plain": [
              "list"
            ]
          },
          "metadata": {},
          "execution_count": 85
        }
      ],
      "source": [
        "l = ['Caroline', 1.0, pythagoras]\n",
        "type(l)"
      ]
    },
    {
      "cell_type": "code",
      "execution_count": null,
      "metadata": {
        "id": "fVvCpMc5o8GY",
        "colab": {
          "base_uri": "https://localhost:8080/"
        },
        "outputId": "3b5ba082-27c4-4930-85d2-75a8309e10a9"
      },
      "outputs": [
        {
          "output_type": "execute_result",
          "data": {
            "text/plain": [
              "['Caroline', 1.0, <function __main__.pythagoras(a, b)>]"
            ]
          },
          "metadata": {},
          "execution_count": 86
        }
      ],
      "source": [
        "l"
      ]
    },
    {
      "cell_type": "code",
      "execution_count": null,
      "metadata": {
        "id": "_iVoeTMSpI1p",
        "colab": {
          "base_uri": "https://localhost:8080/",
          "height": 35
        },
        "outputId": "585845b0-b39e-4979-9e95-0a00df8eca20"
      },
      "outputs": [
        {
          "output_type": "execute_result",
          "data": {
            "text/plain": [
              "'Caroline'"
            ],
            "application/vnd.google.colaboratory.intrinsic+json": {
              "type": "string"
            }
          },
          "metadata": {},
          "execution_count": 87
        }
      ],
      "source": [
        "l[0]"
      ]
    },
    {
      "cell_type": "code",
      "execution_count": null,
      "metadata": {
        "id": "8XwMxiK5pBPx",
        "colab": {
          "base_uri": "https://localhost:8080/"
        },
        "outputId": "56da3469-949f-44f5-c363-e811a8c67f73"
      },
      "outputs": [
        {
          "output_type": "execute_result",
          "data": {
            "text/plain": [
              "str"
            ]
          },
          "metadata": {},
          "execution_count": 88
        }
      ],
      "source": [
        "type(l[0])"
      ]
    },
    {
      "cell_type": "markdown",
      "metadata": {
        "id": "U-b0NEatpUDX"
      },
      "source": [
        "Common methods for lists"
      ]
    },
    {
      "cell_type": "code",
      "execution_count": null,
      "metadata": {
        "id": "qNpFJvtUpWAC",
        "colab": {
          "base_uri": "https://localhost:8080/"
        },
        "outputId": "d8373645-9a5c-46bc-a5dc-5b9ecd678c3c"
      },
      "outputs": [
        {
          "output_type": "execute_result",
          "data": {
            "text/plain": [
              "['Caroline', 1.0, <function __main__.pythagoras(a, b)>, 1.4142135623730951]"
            ]
          },
          "metadata": {},
          "execution_count": 89
        }
      ],
      "source": [
        "l.append(sqrt(2.0))\n",
        "l"
      ]
    },
    {
      "cell_type": "code",
      "execution_count": null,
      "metadata": {
        "id": "XdlqQeccpZIj",
        "colab": {
          "base_uri": "https://localhost:8080/",
          "height": 156
        },
        "outputId": "860a85e6-0943-4674-82ba-8bb60c2603cf"
      },
      "outputs": [
        {
          "output_type": "execute_result",
          "data": {
            "text/plain": [
              "<function __main__.pythagoras(a, b)>"
            ],
            "text/html": [
              "<div style=\"max-width:800px; border: 1px solid var(--colab-border-color);\"><style>\n",
              "      pre.function-repr-contents {\n",
              "        overflow-x: auto;\n",
              "        padding: 8px 12px;\n",
              "        max-height: 500px;\n",
              "      }\n",
              "\n",
              "      pre.function-repr-contents.function-repr-contents-collapsed {\n",
              "        cursor: pointer;\n",
              "        max-height: 100px;\n",
              "      }\n",
              "    </style>\n",
              "    <pre style=\"white-space: initial; background:\n",
              "         var(--colab-secondary-surface-color); padding: 8px 12px;\n",
              "         border-bottom: 1px solid var(--colab-border-color);\"><b>pythagoras</b><br/>def pythagoras(a, b)</pre><pre class=\"function-repr-contents function-repr-contents-collapsed\" style=\"\"><a class=\"filepath\" style=\"display:none\" href=\"#\">/content/&lt;ipython-input-49-32d5b438a073&gt;</a>Computes the length of the hypotenuse of a right triangle\n",
              "\n",
              "Arguments\n",
              "a, b: the two lengths of the right triangle</pre></div>"
            ]
          },
          "metadata": {},
          "execution_count": 90
        }
      ],
      "source": [
        "a = l.pop(2)\n",
        "a"
      ]
    },
    {
      "cell_type": "code",
      "execution_count": null,
      "metadata": {
        "id": "xvACg9qX3Pck",
        "colab": {
          "base_uri": "https://localhost:8080/"
        },
        "outputId": "a27e8b86-0284-46f7-cdb9-52f7c6b36bb7"
      },
      "outputs": [
        {
          "output_type": "execute_result",
          "data": {
            "text/plain": [
              "['Caroline', 1.0, 1.4142135623730951]"
            ]
          },
          "metadata": {},
          "execution_count": 91
        }
      ],
      "source": [
        "l"
      ]
    },
    {
      "cell_type": "code",
      "execution_count": null,
      "metadata": {
        "id": "O3D4DLxMpkT3"
      },
      "outputs": [],
      "source": [
        "l.pop(0)\n",
        "l.append(100)\n",
        "l.sort(reverse=True)"
      ]
    },
    {
      "cell_type": "code",
      "execution_count": null,
      "metadata": {
        "id": "Ls42YiqeppJ9"
      },
      "outputs": [],
      "source": [
        "l"
      ]
    },
    {
      "cell_type": "code",
      "execution_count": null,
      "metadata": {
        "id": "s7bnNoJhp2PO"
      },
      "outputs": [],
      "source": [
        "l[1] = 2\n",
        "l"
      ]
    },
    {
      "cell_type": "code",
      "execution_count": null,
      "metadata": {
        "id": "vocUwCUkp6Qp"
      },
      "outputs": [],
      "source": [
        "l.extend([6.0, 4])\n",
        "l"
      ]
    },
    {
      "cell_type": "markdown",
      "metadata": {
        "id": "1FEwzWyLqU8E"
      },
      "source": [
        "## Tuples\n",
        "* Immutable \"lists\""
      ]
    },
    {
      "cell_type": "code",
      "execution_count": null,
      "metadata": {
        "id": "TpUMKFPtqdFL"
      },
      "outputs": [],
      "source": [
        "t = (1.0, 4.0)\n",
        "t, type(t)"
      ]
    },
    {
      "cell_type": "code",
      "execution_count": null,
      "metadata": {
        "id": "u5NE8IKzqfds"
      },
      "outputs": [],
      "source": [
        "t[1]"
      ]
    },
    {
      "cell_type": "code",
      "execution_count": null,
      "metadata": {
        "id": "04ireNT-qiHN"
      },
      "outputs": [],
      "source": [
        "t[1] = 2"
      ]
    },
    {
      "cell_type": "markdown",
      "metadata": {
        "id": "Mbn7WPtIqlhs"
      },
      "source": [
        "## Dictionaries\n",
        "- Like lists with user-definable indices\n",
        "- Can, like lists and tuples, contain a mix of different types of data.\n",
        "- The indices can *also* be different kinds of data - unlike lists and tuples."
      ]
    },
    {
      "cell_type": "code",
      "execution_count": null,
      "metadata": {
        "id": "o7MP7oRwqwbi"
      },
      "outputs": [],
      "source": [
        "d = {'one': 1, 2: 1 + 1, 3.0: 'three'}\n",
        "d"
      ]
    },
    {
      "cell_type": "markdown",
      "metadata": {
        "id": "_-6xdkewq_3Q"
      },
      "source": [
        "Usefull methods"
      ]
    },
    {
      "cell_type": "code",
      "execution_count": null,
      "metadata": {
        "id": "kLpSqxHUrBZJ"
      },
      "outputs": [],
      "source": [
        "d.keys()"
      ]
    },
    {
      "cell_type": "code",
      "execution_count": null,
      "metadata": {
        "id": "M7igUfJurFxl"
      },
      "outputs": [],
      "source": [
        "d.items()"
      ]
    },
    {
      "cell_type": "code",
      "execution_count": null,
      "metadata": {
        "id": "nEvSUJ0JrTB7"
      },
      "outputs": [],
      "source": [
        "some_value = d.pop(3.0)\n",
        "d"
      ]
    },
    {
      "cell_type": "code",
      "execution_count": null,
      "metadata": {
        "id": "yA_U7JXRrY_q"
      },
      "outputs": [],
      "source": [
        "some_value"
      ]
    },
    {
      "cell_type": "code",
      "execution_count": null,
      "metadata": {
        "id": "xclG5A8krrJR"
      },
      "outputs": [],
      "source": [
        "d['four'] = 4\n",
        "d"
      ]
    },
    {
      "cell_type": "code",
      "execution_count": null,
      "metadata": {
        "id": "m-bPPrbysGvC"
      },
      "outputs": [],
      "source": [
        "d.update({'five': 5.0, 6: 6.0})\n",
        "d"
      ]
    },
    {
      "cell_type": "markdown",
      "metadata": {
        "id": "QoEnu2rcMMSY"
      },
      "source": [
        "## Data Frames\n",
        "\n",
        "In Python Data Frames are managed by Pandas, a very comprehensive library for data manipulation and analysis.\n",
        "\n",
        "We will introduce to it later more in detail, so here only brief:"
      ]
    },
    {
      "cell_type": "code",
      "execution_count": null,
      "metadata": {
        "id": "_FQ-oFLZL7CG"
      },
      "outputs": [],
      "source": [
        "# We construct the DF from a dictionary which is indicated by {'some_key':['some_values']}\n",
        "\n",
        "df1 = pd.DataFrame(\n",
        "    {'ID':range(1,5), # Python counts from 0 and the last value in a range is excluded\n",
        "     'FirstName':[\"Jesper\",\"Jonas\",\"Pernille\",\"Helle\"],\n",
        "     'Female':[False,False,True,True],\n",
        "     'Age':[22,33,44,55]\n",
        "})"
      ]
    },
    {
      "cell_type": "code",
      "execution_count": null,
      "metadata": {
        "id": "qipUW6Q1NVKY"
      },
      "outputs": [],
      "source": [
        "# Python doesn't really do much factors and as you can see pandas understood your input formats\n",
        "df1.info()"
      ]
    },
    {
      "cell_type": "code",
      "execution_count": null,
      "metadata": {
        "id": "SD7HZIQQNkpU"
      },
      "outputs": [],
      "source": [
        "df1.FirstName #dot notation"
      ]
    },
    {
      "cell_type": "code",
      "execution_count": null,
      "metadata": {
        "id": "0Do1Lk-uN2zO"
      },
      "outputs": [],
      "source": [
        "df1['FirstName'] #more traditional subsetting"
      ]
    },
    {
      "cell_type": "code",
      "execution_count": null,
      "metadata": {
        "id": "zLFKVJVsN9bD"
      },
      "outputs": [],
      "source": [
        "df1.loc[:,'FirstName'] #more complex subsetting"
      ]
    },
    {
      "cell_type": "code",
      "execution_count": null,
      "metadata": {
        "id": "9J8NRzRrOBcD"
      },
      "outputs": [],
      "source": [
        "df1.iloc[:,1] #index based"
      ]
    },
    {
      "cell_type": "code",
      "execution_count": null,
      "metadata": {
        "id": "duwAHqnyOHlH"
      },
      "outputs": [],
      "source": [
        "# Rows 1 and 2, columns 3 and 4 - the gender and age of Jesper & Jonas\n",
        "df1.iloc[[0,1],[2,3]]\n"
      ]
    },
    {
      "cell_type": "code",
      "execution_count": null,
      "metadata": {
        "id": "xUHIecqoOjhR"
      },
      "outputs": [],
      "source": [
        "#Same thing\n",
        "df1.loc[[0,1],['Female','Age']]"
      ]
    },
    {
      "cell_type": "code",
      "execution_count": null,
      "metadata": {
        "id": "XDKencHoOy5O"
      },
      "outputs": [],
      "source": [
        "# Rows 1 and 3, all columns\n",
        "\n",
        "df1.iloc[[0,2],:] # don't forget to count index-1 when going from R to python"
      ]
    },
    {
      "cell_type": "code",
      "execution_count": null,
      "metadata": {
        "id": "b8vrtaLOPBuy"
      },
      "outputs": [],
      "source": [
        "#Find the names of everyone over the age of 30 in the data\n",
        "df1[df1.Age > 30]"
      ]
    },
    {
      "cell_type": "code",
      "execution_count": null,
      "metadata": {
        "id": "2ORTGEiMPR-M"
      },
      "outputs": [],
      "source": [
        "# or \"Query style\" (There are always many ways of doing the same thing)\n",
        "df1.query('Age > 30')"
      ]
    }
  ],
  "metadata": {
    "colab": {
      "provenance": []
    },
    "kernelspec": {
      "display_name": "Python 3",
      "name": "python3"
    },
    "language_info": {
      "codemirror_mode": {
        "name": "ipython",
        "version": 3
      },
      "file_extension": ".py",
      "mimetype": "text/x-python",
      "name": "python",
      "nbconvert_exporter": "python",
      "pygments_lexer": "ipython3",
      "version": "3.9.12"
    }
  },
  "nbformat": 4,
  "nbformat_minor": 0
}